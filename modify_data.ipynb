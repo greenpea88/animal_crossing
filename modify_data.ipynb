{
 "cells": [
  {
   "cell_type": "markdown",
   "metadata": {},
   "source": [
    "# 주민 데이터 처리\n",
    "1. 생일 : 월/일로 분류하기\n",
    "2. 성별 : 기호->글자\n",
    "3. image src 추가하기 -> spring 이미지 제외 구성 후 추가해 볼 것\n",
    "4. 엑셀 앞 인덱스 없애기"
   ]
  },
  {
   "cell_type": "code",
   "execution_count": 1,
   "metadata": {},
   "outputs": [],
   "source": [
    "import requests\n",
    "import pandas as pd\n",
    "import openpyxl\n",
    "import sys\n",
    "import os\n",
    "from bs4 import BeautifulSoup"
   ]
  },
  {
   "cell_type": "markdown",
   "metadata": {},
   "source": [
    "### 저장해놓은 엑셀 파일 불러오기"
   ]
  },
  {
   "cell_type": "code",
   "execution_count": 2,
   "metadata": {},
   "outputs": [],
   "source": [
    "data=openpyxl.load_workbook('animal_crossing_neighbors.xlsx')\n",
    "\n",
    "ws=data.active"
   ]
  },
  {
   "cell_type": "markdown",
   "metadata": {},
   "source": [
    "### 이미지의 파일명 변경"
   ]
  },
  {
   "cell_type": "code",
   "execution_count": 3,
   "metadata": {
    "scrolled": false
   },
   "outputs": [],
   "source": [
    "file_path='./neighbor_images'\n",
    "files=os.listdir(file_path)\n",
    "for filename in files:\n",
    "    if filename.endswith('png'):\n",
    "        temp=filename.replace('image','')\n",
    "        temp=temp.replace('.png','')\n",
    "        new_filename='0'*(3-len(temp))+temp+'.png'\n",
    "        os.rename(file_path+'/'+filename,file_path+'/'+new_filename)"
   ]
  },
  {
   "cell_type": "code",
   "execution_count": 4,
   "metadata": {},
   "outputs": [],
   "source": [
    "new_data=[]\n",
    "for r in ws.rows:\n",
    "    if r[0].row==1:\n",
    "        continue\n",
    "    else:\n",
    "        if r[3].value=='♀':\n",
    "            sex='여'\n",
    "        elif r[3].value=='♂':\n",
    "            sex='남'\n",
    "        birthday=r[4].value\n",
    "        month=birthday[0:2]\n",
    "        day=birthday[4:6]\n",
    "        feature=[r[1].value,r[2].value,sex,month,day,r[5].value]\n",
    "        new_data.append(feature)"
   ]
  },
  {
   "cell_type": "code",
   "execution_count": 5,
   "metadata": {},
   "outputs": [
    {
     "data": {
      "text/html": [
       "<div>\n",
       "<style scoped>\n",
       "    .dataframe tbody tr th:only-of-type {\n",
       "        vertical-align: middle;\n",
       "    }\n",
       "\n",
       "    .dataframe tbody tr th {\n",
       "        vertical-align: top;\n",
       "    }\n",
       "\n",
       "    .dataframe thead th {\n",
       "        text-align: right;\n",
       "    }\n",
       "</style>\n",
       "<table border=\"1\" class=\"dataframe\">\n",
       "  <thead>\n",
       "    <tr style=\"text-align: right;\">\n",
       "      <th></th>\n",
       "      <th>종</th>\n",
       "      <th>이름</th>\n",
       "      <th>성별</th>\n",
       "      <th>생일-월</th>\n",
       "      <th>생일-일</th>\n",
       "      <th>성격</th>\n",
       "    </tr>\n",
       "  </thead>\n",
       "  <tbody>\n",
       "    <tr>\n",
       "      <th>0</th>\n",
       "      <td>개</td>\n",
       "      <td>카라멜</td>\n",
       "      <td>여</td>\n",
       "      <td>12</td>\n",
       "      <td>27</td>\n",
       "      <td>친절함</td>\n",
       "    </tr>\n",
       "    <tr>\n",
       "      <th>1</th>\n",
       "      <td>개</td>\n",
       "      <td>존</td>\n",
       "      <td>남</td>\n",
       "      <td>11</td>\n",
       "      <td>01</td>\n",
       "      <td>무뚝뚝</td>\n",
       "    </tr>\n",
       "    <tr>\n",
       "      <th>2</th>\n",
       "      <td>개</td>\n",
       "      <td>럭키</td>\n",
       "      <td>남</td>\n",
       "      <td>11</td>\n",
       "      <td>04</td>\n",
       "      <td>먹보</td>\n",
       "    </tr>\n",
       "    <tr>\n",
       "      <th>3</th>\n",
       "      <td>개</td>\n",
       "      <td>로빈</td>\n",
       "      <td>남</td>\n",
       "      <td>05</td>\n",
       "      <td>13</td>\n",
       "      <td>먹보</td>\n",
       "    </tr>\n",
       "    <tr>\n",
       "      <th>4</th>\n",
       "      <td>개</td>\n",
       "      <td>토미</td>\n",
       "      <td>남</td>\n",
       "      <td>08</td>\n",
       "      <td>04</td>\n",
       "      <td>먹보</td>\n",
       "    </tr>\n",
       "    <tr>\n",
       "      <th>5</th>\n",
       "      <td>개</td>\n",
       "      <td>블랜더</td>\n",
       "      <td>여</td>\n",
       "      <td>10</td>\n",
       "      <td>25</td>\n",
       "      <td>성숙함</td>\n",
       "    </tr>\n",
       "    <tr>\n",
       "      <th>6</th>\n",
       "      <td>개</td>\n",
       "      <td>벤</td>\n",
       "      <td>남</td>\n",
       "      <td>06</td>\n",
       "      <td>10</td>\n",
       "      <td>먹보</td>\n",
       "    </tr>\n",
       "    <tr>\n",
       "      <th>7</th>\n",
       "      <td>개</td>\n",
       "      <td>바닐라</td>\n",
       "      <td>여</td>\n",
       "      <td>11</td>\n",
       "      <td>16</td>\n",
       "      <td>친절함</td>\n",
       "    </tr>\n",
       "    <tr>\n",
       "      <th>8</th>\n",
       "      <td>개</td>\n",
       "      <td>베리</td>\n",
       "      <td>여</td>\n",
       "      <td>06</td>\n",
       "      <td>18</td>\n",
       "      <td>아이돌</td>\n",
       "    </tr>\n",
       "    <tr>\n",
       "      <th>9</th>\n",
       "      <td>개</td>\n",
       "      <td>마롱</td>\n",
       "      <td>여</td>\n",
       "      <td>01</td>\n",
       "      <td>11</td>\n",
       "      <td>아이돌</td>\n",
       "    </tr>\n",
       "  </tbody>\n",
       "</table>\n",
       "</div>"
      ],
      "text/plain": [
       "   종   이름 성별 생일-월 생일-일   성격\n",
       "0  개  카라멜  여   12   27  친절함\n",
       "1  개    존  남   11   01  무뚝뚝\n",
       "2  개   럭키  남   11   04   먹보\n",
       "3  개   로빈  남   05   13   먹보\n",
       "4  개   토미  남   08   04   먹보\n",
       "5  개  블랜더  여   10   25  성숙함\n",
       "6  개    벤  남   06   10   먹보\n",
       "7  개  바닐라  여   11   16  친절함\n",
       "8  개   베리  여   06   18  아이돌\n",
       "9  개   마롱  여   01   11  아이돌"
      ]
     },
     "execution_count": 5,
     "metadata": {},
     "output_type": "execute_result"
    }
   ],
   "source": [
    "data=pd.DataFrame(new_data,columns=['종','이름','성별','생일-월','생일-일','성격'])\n",
    "data.head(10)"
   ]
  },
  {
   "cell_type": "code",
   "execution_count": 6,
   "metadata": {},
   "outputs": [],
   "source": [
    "data.to_excel('neighbors.xlsx',index=False) #excel로 파일 변환"
   ]
  },
  {
   "cell_type": "code",
   "execution_count": null,
   "metadata": {},
   "outputs": [],
   "source": []
  }
 ],
 "metadata": {
  "kernelspec": {
   "display_name": "Python 3",
   "language": "python",
   "name": "python3"
  },
  "language_info": {
   "codemirror_mode": {
    "name": "ipython",
    "version": 3
   },
   "file_extension": ".py",
   "mimetype": "text/x-python",
   "name": "python",
   "nbconvert_exporter": "python",
   "pygments_lexer": "ipython3",
   "version": "3.7.6"
  }
 },
 "nbformat": 4,
 "nbformat_minor": 4
}
